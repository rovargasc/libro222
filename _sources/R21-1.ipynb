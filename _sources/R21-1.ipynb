{
 "cells": [
  {
   "cell_type": "markdown",
   "id": "7e9d6027",
   "metadata": {},
   "source": [
    "# R 21-1\n",
    "\n",
    "Aquí van a estar todos los videos de R correspondientes al año 2021 semestre\n",
    "\n",
    "## Pruebas de hipótesis\n",
    "\n",
    "En este vídeo hablaremos acerca de las pruebas de hipótesis, regresión lineal, ANOVA...\n",
    "\n",
    "Para encontrar el vídeo, has click aquí: [Pruebas](https://drive.google.com/file/d/1u_OVaQTWQHgniId_XxDugVt-mop8rbJ7/view?usp=sharing)\n",
    "\n",
    "## Análisis de regresión\n",
    "\n",
    "Este vídeo corresponde a una clase del curso libre llamado \"R Básico\". Comprende el tema de regresión lineal\n",
    "\n",
    "[Regresión](https://drive.google.com/file/d/1vAx8sgGm106LPVUjpb2R1t2Zc9MIR_bV/view?usp=sharing)"
   ]
  }
 ],
 "metadata": {
  "jupytext": {
   "cell_metadata_filter": "-all",
   "formats": "md:myst",
   "text_representation": {
    "extension": ".md",
    "format_name": "myst",
    "format_version": 0.13,
    "jupytext_version": "1.11.5"
   }
  },
  "kernelspec": {
   "display_name": "Python 3",
   "language": "python",
   "name": "python3"
  },
  "language_info": {
   "codemirror_mode": {
    "name": "ipython",
    "version": 3
   },
   "file_extension": ".py",
   "mimetype": "text/x-python",
   "name": "python",
   "nbconvert_exporter": "python",
   "pygments_lexer": "ipython3",
   "version": "3.8.13"
  },
  "source_map": [
   14
  ]
 },
 "nbformat": 4,
 "nbformat_minor": 5
}