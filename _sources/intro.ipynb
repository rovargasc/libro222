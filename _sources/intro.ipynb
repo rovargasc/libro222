{
 "cells": [
  {
   "cell_type": "markdown",
   "id": "cab0f124",
   "metadata": {},
   "source": [
    "# Gestión del conocimiento\n",
    "\n",
    "Aquí vamos a colocar esos links que nos parecen importantes para practicar...\n",
    "\n",
    "Si te gustan los perritos, podrías darle click en [perritos lindos](https://www.dogalize.com/es/2017/06/fotos-de-perros-cachorros-imagenes/) y disfrutarás un ratito :)\n",
    "\n",
    "\n",
    "Check out the content pages bundled with this sample book to see more.\n",
    "\n",
    "```{tableofcontents}\n",
    "```"
   ]
  }
 ],
 "metadata": {
  "jupytext": {
   "cell_metadata_filter": "-all",
   "formats": "md:myst",
   "text_representation": {
    "extension": ".md",
    "format_name": "myst",
    "format_version": 0.13,
    "jupytext_version": "1.11.5"
   }
  },
  "kernelspec": {
   "display_name": "Python 3",
   "language": "python",
   "name": "python3"
  },
  "language_info": {
   "codemirror_mode": {
    "name": "ipython",
    "version": 3
   },
   "file_extension": ".py",
   "mimetype": "text/x-python",
   "name": "python",
   "nbconvert_exporter": "python",
   "pygments_lexer": "ipython3",
   "version": "3.8.13"
  },
  "source_map": [
   14
  ]
 },
 "nbformat": 4,
 "nbformat_minor": 5
}