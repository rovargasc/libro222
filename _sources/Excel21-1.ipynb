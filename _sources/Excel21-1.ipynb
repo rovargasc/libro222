{
 "cells": [
  {
   "cell_type": "markdown",
   "id": "1519ccd8",
   "metadata": {},
   "source": [
    "# Excel 21-1\n",
    "\n",
    "Este archivo de excel se hace para dar a entender que hay otras cosas a parte de los otros dos softawares anteriormente mencionados.\n",
    "\n",
    "Este sirve tanto para administración como para contaduría pública y economía.\n",
    "\n",
    "De momento no tiene vídeos, pero dejaré algunos temas importantes para que se ubiquen...\n",
    "\n",
    "1. Formatos de fecha\n",
    "2. Multiplicación de matrices\n",
    "3. Condicionales\n",
    "4. Interés compuesto\n",
    "5. Matemáticas financieras\n",
    "\n",
    "Todo esto lo podrás ver en el siguiente vídeo: [Vídeo](https://drive.google.com/drive/folders/1m-ivjX9NFHLYKxaTzwti8unxF8pSY6nM?usp=sharing)"
   ]
  }
 ],
 "metadata": {
  "jupytext": {
   "cell_metadata_filter": "-all",
   "formats": "md:myst",
   "text_representation": {
    "extension": ".md",
    "format_name": "myst",
    "format_version": 0.13,
    "jupytext_version": "1.11.5"
   }
  },
  "kernelspec": {
   "display_name": "Python 3",
   "language": "python",
   "name": "python3"
  },
  "language_info": {
   "codemirror_mode": {
    "name": "ipython",
    "version": 3
   },
   "file_extension": ".py",
   "mimetype": "text/x-python",
   "name": "python",
   "nbconvert_exporter": "python",
   "pygments_lexer": "ipython3",
   "version": "3.8.13"
  },
  "source_map": [
   14
  ]
 },
 "nbformat": 4,
 "nbformat_minor": 5
}