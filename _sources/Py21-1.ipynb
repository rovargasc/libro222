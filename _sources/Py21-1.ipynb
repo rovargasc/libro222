{
 "cells": [
  {
   "cell_type": "markdown",
   "id": "3ba2ce2e",
   "metadata": {},
   "source": [
    "# Python 21-1\n",
    "\n",
    "## Curso libre: Econometría Básica con Python\n",
    "\n",
    "[Curso](https://drive.google.com/drive/folders/1Hv4YQN3iZhB010yf7dCUh-VfuTva_6TQ?usp=sharing)\n",
    "\n",
    "## Análisis de datos con Python\n",
    "\n",
    "En estos vídeos aprenderemos acerca de estructuras de control, regresión lineal, listas...\n",
    "\n",
    "[Análisis](https://drive.google.com/drive/folders/1XiZUdZH0HqFunkOflSOXBnXNJcBkGIzt?usp=sharing)\n",
    "\n",
    "Parece que a esta cosa hay que meterle bastante cháchara y de diversas maneras para ver cómo lo coge el buscador del libro.\n",
    "\n",
    "1. Regresión\n",
    "2. Estructuras de control\n",
    "3. Más cositas\n",
    "\n",
    "### Cosas que se verán más a profundidad:\n",
    "\n",
    "Este es un subtítulo a ver qué le pasa a esa cosa: regresión."
   ]
  }
 ],
 "metadata": {
  "jupytext": {
   "cell_metadata_filter": "-all",
   "formats": "md:myst",
   "text_representation": {
    "extension": ".md",
    "format_name": "myst",
    "format_version": 0.13,
    "jupytext_version": "1.11.5"
   }
  },
  "kernelspec": {
   "display_name": "Python 3",
   "language": "python",
   "name": "python3"
  },
  "language_info": {
   "codemirror_mode": {
    "name": "ipython",
    "version": 3
   },
   "file_extension": ".py",
   "mimetype": "text/x-python",
   "name": "python",
   "nbconvert_exporter": "python",
   "pygments_lexer": "ipython3",
   "version": "3.8.13"
  },
  "source_map": [
   14
  ]
 },
 "nbformat": 4,
 "nbformat_minor": 5
}