{
 "cells": [
  {
   "cell_type": "markdown",
   "id": "18caccc2",
   "metadata": {},
   "source": [
    "# 2021-1\n",
    "\n",
    "Esta sección corresponde a los vídeos que se han creado en la Unidad de Informática de la Facultad de Ciencias Económicas en el año 2021\n",
    "\n",
    "Este archivo es un .txt pero toca cambiarlo a .md (de markdown jeje)\n",
    "\n",
    "## Nada R\n",
    "\n",
    "Puedo referenciar poniendo ()=\n",
    "\n",
    "(section-label-1)=\n",
    "## Nada Python\n",
    "\n",
    "Voy a referenciar el título de arriba haciendo esto [aquí](section-label-1)\n",
    "\n",
    "<!-- }}}}}]]]]] -->"
   ]
  }
 ],
 "metadata": {
  "jupytext": {
   "cell_metadata_filter": "-all",
   "formats": "md:myst",
   "text_representation": {
    "extension": ".md",
    "format_name": "myst",
    "format_version": 0.13,
    "jupytext_version": "1.11.5"
   }
  },
  "kernelspec": {
   "display_name": "Python 3",
   "language": "python",
   "name": "python3"
  },
  "language_info": {
   "codemirror_mode": {
    "name": "ipython",
    "version": 3
   },
   "file_extension": ".py",
   "mimetype": "text/x-python",
   "name": "python",
   "nbconvert_exporter": "python",
   "pygments_lexer": "ipython3",
   "version": "3.8.13"
  },
  "source_map": [
   14
  ]
 },
 "nbformat": 4,
 "nbformat_minor": 5
}